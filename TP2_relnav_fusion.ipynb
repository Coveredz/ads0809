{
 "cells": [
  {
   "cell_type": "markdown",
   "metadata": {},
   "source": [
    "# Vision-based Navigation - Day 2 - Practical Work 2\n",
    "## Two-view relative navigation for vertical landing"
   ]
  },
  {
   "cell_type": "markdown",
   "metadata": {},
   "source": [
    "With TP1, you have estimated the translation direction of the vehicle during the vertical landing phase from a minimum set of points.\n",
    "\n",
    "<center><img src=\"img/scene.svg\" style=\"width: 600px;\"/></center>\n",
    "\n",
    "This simple analytical solution is now used in a RANSAC estimator to remove outliers, and a least square estimator is run to minimise the error across all points and retrieve the error covariance.\n",
    "\n",
    "Next, this movement information must be input to an EKF which merges measurements from all platform sensors. Let's tackle that."
   ]
  },
  {
   "cell_type": "markdown",
   "metadata": {},
   "source": [
    "### Hypotheses\n",
    "* The EKF vehicle states are position, velocity and attiude in inertial frame (PCI)\n",
    "* The EKF also latches the vehicle states at the time of the previous image: these states are also in the state vector and can be updated by the relative navigation measurement\n",
    "* The least square solver considers the relative orientation between the two frames, provided by the filter\n",
    "* The least square solver outputs are:\n",
    "    * $l^{E_1}$ the translation direction in frame 1\n",
    "    * $J^{Lo}_{E_1}$ the rotation from frame 1 to $Lo$, which is the frame in which the translation direction error is expressed. This frame of dimension 2 is orthogonal to $l^{E1}$ so as to yield the two coordinates representing $\\delta l^{E_1}$ \n",
    "    * The state error covariance composed of\n",
    "        * $\\delta l^{E_O}$ the direction of translation error\n",
    "* A perfect rotation model is available to convert between the EKF inertial frame $I$ and the Moon-fixed frame $P$ at all times\n",
    "* Frame orientation errors, from body to camera or from inertial to body, are ignored for this exercise"
   ]
  },
  {
   "cell_type": "markdown",
   "metadata": {},
   "source": [
    "  #### **a)** Compute the measurement equations linking measurement derivative to EKF position error derivatives\n",
    "\n",
    "\n",
    "| EKF state error description            | Notation                       | $$\\delta l^{E_o}$$  |\n",
    "| -------------------------------------- |------------------------        | -------------------:|\n",
    "| Vehicle position error in frame 1      | $$\\delta p^I_{B_1/I}$$         |        ?             |\n",
    "| Vehicle position error in frame 2      | $$\\delta p^I_{B_2/I}$$         |        ?             |\n",
    "\n",
    "\n",
    "_Tip:   Start from the definition of the measurement: $l^{E_1} = \\dfrac{t_{E_1}}{||t_{E_1}||}$ and $t^{P} = p^{P}_{B_2/P} - p^{P}_{B_1/P}$_\n",
    "\n",
    "_Tip:   $R^{E_2}_{E_1} \\neq R^{E_2}_{I} R^{I}_{E_{1}}$ , the Moon is rotating! The frames $P_1$ and $P_2$ must be considered._ \n",
    "\n"
   ]
  },
  {
   "cell_type": "markdown",
   "metadata": {},
   "source": [
    "#### **b)** What can you infer from the results?"
   ]
  },
  {
   "cell_type": "markdown",
   "metadata": {},
   "source": [
    "#### **c)** Finished early? Consider the more realistic case where frame orientation errors exist: body to camera ($\\delta\\psi^{E}_{E/B}$) and inertial to body ($\\delta\\psi^{I}_{B/I}$). Plus, the least square process also provides $S_{xy}$, the matrix relating the error in the considered rotation between frames and the measurement error: $\\delta l^{L_o} = S_{xy} \\delta \\psi^{E_1}_{(E_2/P_2)/(E_1/P_1)}$. \n",
    "#### Compute the full measurement equations, and come back to b)."
   ]
  }
 ],
 "metadata": {
  "kernelspec": {
   "display_name": "Python 3",
   "language": "python",
   "name": "python3"
  },
  "language_info": {
   "codemirror_mode": {
    "name": "ipython",
    "version": 3
   },
   "file_extension": ".py",
   "mimetype": "text/x-python",
   "name": "python",
   "nbconvert_exporter": "python",
   "pygments_lexer": "ipython3",
   "version": "3.8.3"
  }
 },
 "nbformat": 4,
 "nbformat_minor": 4
}
