{
 "cells": [
  {
   "cell_type": "markdown",
   "metadata": {},
   "source": [
    "# Vision-based Navigation - Day 2 - Practical Work 3\n",
    "## Absolute navigation during planetary approach"
   ]
  },
  {
   "cell_type": "markdown",
   "metadata": {},
   "source": [
    "Let's come back to our landing vehicle. We are actually going back in time because this phase happens before vertical descent.\n",
    "\n",
    "It has recently exited it's orbital phase at periselene, and is now flying without ground navigation support!\n",
    "\n",
    "It must now use known landmarks on the Moon to preserve absolute navigation information and avoid fast drift of its position knowledge.\n",
    "\n",
    "<center><img src=\"img/scene2.svg\" style=\"width: 600px;\"/></center>\n"
   ]
  },
  {
   "cell_type": "markdown",
   "metadata": {},
   "source": [
    "### Hypotheses\n",
    "* An image processing algorithm from TESUR provides us with a list of detected landmarks along with their selenographic reference.\n",
    "* The vehicle's attitude is well-known (star trackers are online), but position states are highly noisy!\n",
    "\n",
    "\n",
    "Using the provided measurements below, can you find an analytical solution for the vehicle's position?"
   ]
  },
  {
   "cell_type": "code",
   "execution_count": 3,
   "metadata": {},
   "outputs": [],
   "source": [
    "import numpy as np\n",
    "\n",
    "# Positions of the found landmarks on the Moon's frame\n",
    "lmPos = np.array([[1153909.2145838765, 759377.3420275284, -1051444.5191799838],\n",
    "              [1149383.8079190892, 773222.7623237732, -1046297.9603907333]])\n",
    "\n",
    "# Lines of sight to the landmarks as provided by IP\n",
    "lmLos = np.array([[0.1645024008555217, 0.016434598662096865, 0.9862397599364898],\n",
    "              [0.04457474626502056, 0.30661981481886785, 0.950787768724363]])"
   ]
  },
  {
   "cell_type": "markdown",
   "metadata": {},
   "source": [
    "_Tip: The problem is very close to the one you already solved with TP1. You need less than 6 new lines of code!_"
   ]
  }
 ],
 "metadata": {
  "kernelspec": {
   "display_name": "Python 3",
   "language": "python",
   "name": "python3"
  },
  "language_info": {
   "codemirror_mode": {
    "name": "ipython",
    "version": 3
   },
   "file_extension": ".py",
   "mimetype": "text/x-python",
   "name": "python",
   "nbconvert_exporter": "python",
   "pygments_lexer": "ipython3",
   "version": "3.8.3"
  }
 },
 "nbformat": 4,
 "nbformat_minor": 4
}
